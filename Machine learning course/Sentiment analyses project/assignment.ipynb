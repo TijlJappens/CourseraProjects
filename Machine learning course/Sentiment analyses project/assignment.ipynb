{
 "cells": [
  {
   "cell_type": "code",
   "execution_count": 1,
   "id": "1c1b53a6-817e-4608-a3d6-345acb42a9f6",
   "metadata": {},
   "outputs": [],
   "source": [
    "import turicreate as tc\n",
    "products = tc.SFrame('amazon_baby.sframe')\n",
    "\n",
    "#ignore all 3*  reviews\n",
    "products = products[products['rating']!= 3]\n",
    "\n",
    "#positive sentiment = 4-star or 5-star reviews\n",
    "products['sentiment'] = products['rating'] >= 4"
   ]
  },
  {
   "cell_type": "code",
   "execution_count": 2,
   "id": "2bcebb3f-0fc0-422a-ac5d-eb54be3c0898",
   "metadata": {},
   "outputs": [],
   "source": [
    "selected_words = ['awesome', 'great', 'fantastic', 'amazing', 'love', 'horrible', 'bad', 'terrible', 'awful', 'wow', 'hate']"
   ]
  },
  {
   "cell_type": "code",
   "execution_count": 3,
   "id": "50bf2e2c-376a-4d9e-94a6-8af1a3e0a353",
   "metadata": {},
   "outputs": [],
   "source": [
    "products['word_count'] = tc.text_analytics.count_words(products['review'])"
   ]
  },
  {
   "cell_type": "code",
   "execution_count": 4,
   "id": "6b343250-e97b-4f0c-a557-802a60272176",
   "metadata": {},
   "outputs": [],
   "source": [
    "def TakeApartWordCount(dict, word):\n",
    "    if word in dict.keys():\n",
    "        return dict[word]\n",
    "    else:\n",
    "        return 0"
   ]
  },
  {
   "cell_type": "code",
   "execution_count": 5,
   "id": "2a2b6dc2-ed1c-4045-b3ed-b5d11a14e893",
   "metadata": {},
   "outputs": [],
   "source": [
    "for word in selected_words:\n",
    "    products[word]=products['word_count'].apply(lambda x : TakeApartWordCount(x,word))"
   ]
  },
  {
   "cell_type": "code",
   "execution_count": 6,
   "id": "60091922-867d-4a5c-9dff-3bf77bdee1d8",
   "metadata": {},
   "outputs": [
    {
     "data": {
      "text/html": [
       "<div style=\"max-height:1000px;max-width:1500px;overflow:auto;\"><table frame=\"box\" rules=\"cols\">\n",
       "    <tr>\n",
       "        <th style=\"padding-left: 1em; padding-right: 1em; text-align: center\">name</th>\n",
       "        <th style=\"padding-left: 1em; padding-right: 1em; text-align: center\">review</th>\n",
       "        <th style=\"padding-left: 1em; padding-right: 1em; text-align: center\">rating</th>\n",
       "        <th style=\"padding-left: 1em; padding-right: 1em; text-align: center\">sentiment</th>\n",
       "        <th style=\"padding-left: 1em; padding-right: 1em; text-align: center\">word_count</th>\n",
       "        <th style=\"padding-left: 1em; padding-right: 1em; text-align: center\">awesome</th>\n",
       "    </tr>\n",
       "    <tr>\n",
       "        <td style=\"padding-left: 1em; padding-right: 1em; text-align: center; vertical-align: top\">Planetwise Wipe Pouch</td>\n",
       "        <td style=\"padding-left: 1em; padding-right: 1em; text-align: center; vertical-align: top\">it came early and was not<br>disappointed. i love ...</td>\n",
       "        <td style=\"padding-left: 1em; padding-right: 1em; text-align: center; vertical-align: top\">5.0</td>\n",
       "        <td style=\"padding-left: 1em; padding-right: 1em; text-align: center; vertical-align: top\">1</td>\n",
       "        <td style=\"padding-left: 1em; padding-right: 1em; text-align: center; vertical-align: top\">{&#x27;recommend&#x27;: 1.0,<br>&#x27;disappointed&#x27;: 1.0, ...</td>\n",
       "        <td style=\"padding-left: 1em; padding-right: 1em; text-align: center; vertical-align: top\">0.0</td>\n",
       "    </tr>\n",
       "    <tr>\n",
       "        <td style=\"padding-left: 1em; padding-right: 1em; text-align: center; vertical-align: top\">Annas Dream Full Quilt<br>with 2 Shams ...</td>\n",
       "        <td style=\"padding-left: 1em; padding-right: 1em; text-align: center; vertical-align: top\">Very soft and comfortable<br>and warmer than it ...</td>\n",
       "        <td style=\"padding-left: 1em; padding-right: 1em; text-align: center; vertical-align: top\">5.0</td>\n",
       "        <td style=\"padding-left: 1em; padding-right: 1em; text-align: center; vertical-align: top\">1</td>\n",
       "        <td style=\"padding-left: 1em; padding-right: 1em; text-align: center; vertical-align: top\">{&#x27;quilt&#x27;: 1.0, &#x27;the&#x27;:<br>1.0, &#x27;than&#x27;: 1.0, &#x27;fu ...</td>\n",
       "        <td style=\"padding-left: 1em; padding-right: 1em; text-align: center; vertical-align: top\">0.0</td>\n",
       "    </tr>\n",
       "    <tr>\n",
       "        <td style=\"padding-left: 1em; padding-right: 1em; text-align: center; vertical-align: top\">Stop Pacifier Sucking<br>without tears with ...</td>\n",
       "        <td style=\"padding-left: 1em; padding-right: 1em; text-align: center; vertical-align: top\">This is a product well<br>worth the purchase.  I ...</td>\n",
       "        <td style=\"padding-left: 1em; padding-right: 1em; text-align: center; vertical-align: top\">5.0</td>\n",
       "        <td style=\"padding-left: 1em; padding-right: 1em; text-align: center; vertical-align: top\">1</td>\n",
       "        <td style=\"padding-left: 1em; padding-right: 1em; text-align: center; vertical-align: top\">{&#x27;tool&#x27;: 1.0, &#x27;clever&#x27;:<br>1.0, &#x27;binky&#x27;: 2.0, ...</td>\n",
       "        <td style=\"padding-left: 1em; padding-right: 1em; text-align: center; vertical-align: top\">0.0</td>\n",
       "    </tr>\n",
       "    <tr>\n",
       "        <td style=\"padding-left: 1em; padding-right: 1em; text-align: center; vertical-align: top\">Stop Pacifier Sucking<br>without tears with ...</td>\n",
       "        <td style=\"padding-left: 1em; padding-right: 1em; text-align: center; vertical-align: top\">All of my kids have cried<br>non-stop when I tried to ...</td>\n",
       "        <td style=\"padding-left: 1em; padding-right: 1em; text-align: center; vertical-align: top\">5.0</td>\n",
       "        <td style=\"padding-left: 1em; padding-right: 1em; text-align: center; vertical-align: top\">1</td>\n",
       "        <td style=\"padding-left: 1em; padding-right: 1em; text-align: center; vertical-align: top\">{&#x27;rock&#x27;: 1.0, &#x27;many&#x27;:<br>1.0, &#x27;headaches&#x27;: 1.0, ...</td>\n",
       "        <td style=\"padding-left: 1em; padding-right: 1em; text-align: center; vertical-align: top\">0.0</td>\n",
       "    </tr>\n",
       "    <tr>\n",
       "        <td style=\"padding-left: 1em; padding-right: 1em; text-align: center; vertical-align: top\">Stop Pacifier Sucking<br>without tears with ...</td>\n",
       "        <td style=\"padding-left: 1em; padding-right: 1em; text-align: center; vertical-align: top\">When the Binky Fairy came<br>to our house, we didn&#x27;t ...</td>\n",
       "        <td style=\"padding-left: 1em; padding-right: 1em; text-align: center; vertical-align: top\">5.0</td>\n",
       "        <td style=\"padding-left: 1em; padding-right: 1em; text-align: center; vertical-align: top\">1</td>\n",
       "        <td style=\"padding-left: 1em; padding-right: 1em; text-align: center; vertical-align: top\">{&#x27;thumb&#x27;: 1.0, &#x27;or&#x27;: 1.0,<br>&#x27;break&#x27;: 1.0, &#x27;trying&#x27;: ...</td>\n",
       "        <td style=\"padding-left: 1em; padding-right: 1em; text-align: center; vertical-align: top\">0.0</td>\n",
       "    </tr>\n",
       "    <tr>\n",
       "        <td style=\"padding-left: 1em; padding-right: 1em; text-align: center; vertical-align: top\">A Tale of Baby&#x27;s Days<br>with Peter Rabbit ...</td>\n",
       "        <td style=\"padding-left: 1em; padding-right: 1em; text-align: center; vertical-align: top\">Lovely book, it&#x27;s bound<br>tightly so you may no ...</td>\n",
       "        <td style=\"padding-left: 1em; padding-right: 1em; text-align: center; vertical-align: top\">4.0</td>\n",
       "        <td style=\"padding-left: 1em; padding-right: 1em; text-align: center; vertical-align: top\">1</td>\n",
       "        <td style=\"padding-left: 1em; padding-right: 1em; text-align: center; vertical-align: top\">{&#x27;for&#x27;: 1.0, &#x27;barnes&#x27;:<br>1.0, &#x27;at&#x27;: 1.0, &#x27;is&#x27;: ...</td>\n",
       "        <td style=\"padding-left: 1em; padding-right: 1em; text-align: center; vertical-align: top\">0.0</td>\n",
       "    </tr>\n",
       "    <tr>\n",
       "        <td style=\"padding-left: 1em; padding-right: 1em; text-align: center; vertical-align: top\">Baby Tracker&amp;reg; - Daily<br>Childcare Journal, ...</td>\n",
       "        <td style=\"padding-left: 1em; padding-right: 1em; text-align: center; vertical-align: top\">Perfect for new parents.<br>We were able to keep ...</td>\n",
       "        <td style=\"padding-left: 1em; padding-right: 1em; text-align: center; vertical-align: top\">5.0</td>\n",
       "        <td style=\"padding-left: 1em; padding-right: 1em; text-align: center; vertical-align: top\">1</td>\n",
       "        <td style=\"padding-left: 1em; padding-right: 1em; text-align: center; vertical-align: top\">{&#x27;right&#x27;: 1.0, &#x27;because&#x27;:<br>1.0, &#x27;questions&#x27;: 1.0, ...</td>\n",
       "        <td style=\"padding-left: 1em; padding-right: 1em; text-align: center; vertical-align: top\">0.0</td>\n",
       "    </tr>\n",
       "    <tr>\n",
       "        <td style=\"padding-left: 1em; padding-right: 1em; text-align: center; vertical-align: top\">Baby Tracker&amp;reg; - Daily<br>Childcare Journal, ...</td>\n",
       "        <td style=\"padding-left: 1em; padding-right: 1em; text-align: center; vertical-align: top\">A friend of mine pinned<br>this product on Pinte ...</td>\n",
       "        <td style=\"padding-left: 1em; padding-right: 1em; text-align: center; vertical-align: top\">5.0</td>\n",
       "        <td style=\"padding-left: 1em; padding-right: 1em; text-align: center; vertical-align: top\">1</td>\n",
       "        <td style=\"padding-left: 1em; padding-right: 1em; text-align: center; vertical-align: top\">{&#x27;like&#x27;: 1.0, &#x27;and&#x27;: 1.0,<br>&#x27;changes&#x27;: 1.0, &#x27;the&#x27;: ...</td>\n",
       "        <td style=\"padding-left: 1em; padding-right: 1em; text-align: center; vertical-align: top\">0.0</td>\n",
       "    </tr>\n",
       "    <tr>\n",
       "        <td style=\"padding-left: 1em; padding-right: 1em; text-align: center; vertical-align: top\">Baby Tracker&amp;reg; - Daily<br>Childcare Journal, ...</td>\n",
       "        <td style=\"padding-left: 1em; padding-right: 1em; text-align: center; vertical-align: top\">This has been an easy way<br>for my nanny to record ...</td>\n",
       "        <td style=\"padding-left: 1em; padding-right: 1em; text-align: center; vertical-align: top\">4.0</td>\n",
       "        <td style=\"padding-left: 1em; padding-right: 1em; text-align: center; vertical-align: top\">1</td>\n",
       "        <td style=\"padding-left: 1em; padding-right: 1em; text-align: center; vertical-align: top\">{&#x27;in&#x27;: 1.0, &#x27;pages&#x27;: 1.0,<br>&#x27;out&#x27;: 1.0, &#x27;run&#x27;: 1.0, ...</td>\n",
       "        <td style=\"padding-left: 1em; padding-right: 1em; text-align: center; vertical-align: top\">0.0</td>\n",
       "    </tr>\n",
       "    <tr>\n",
       "        <td style=\"padding-left: 1em; padding-right: 1em; text-align: center; vertical-align: top\">Baby Tracker&amp;reg; - Daily<br>Childcare Journal, ...</td>\n",
       "        <td style=\"padding-left: 1em; padding-right: 1em; text-align: center; vertical-align: top\">I love this journal and<br>our nanny uses it ...</td>\n",
       "        <td style=\"padding-left: 1em; padding-right: 1em; text-align: center; vertical-align: top\">4.0</td>\n",
       "        <td style=\"padding-left: 1em; padding-right: 1em; text-align: center; vertical-align: top\">1</td>\n",
       "        <td style=\"padding-left: 1em; padding-right: 1em; text-align: center; vertical-align: top\">{&#x27;tracker&#x27;: 1.0, &#x27;now&#x27;:<br>1.0, &#x27;its&#x27;: 1.0, &#x27;sti ...</td>\n",
       "        <td style=\"padding-left: 1em; padding-right: 1em; text-align: center; vertical-align: top\">0.0</td>\n",
       "    </tr>\n",
       "</table>\n",
       "<table frame=\"box\" rules=\"cols\">\n",
       "    <tr>\n",
       "        <th style=\"padding-left: 1em; padding-right: 1em; text-align: center\">great</th>\n",
       "        <th style=\"padding-left: 1em; padding-right: 1em; text-align: center\">fantastic</th>\n",
       "        <th style=\"padding-left: 1em; padding-right: 1em; text-align: center\">amazing</th>\n",
       "        <th style=\"padding-left: 1em; padding-right: 1em; text-align: center\">love</th>\n",
       "        <th style=\"padding-left: 1em; padding-right: 1em; text-align: center\">horrible</th>\n",
       "        <th style=\"padding-left: 1em; padding-right: 1em; text-align: center\">bad</th>\n",
       "        <th style=\"padding-left: 1em; padding-right: 1em; text-align: center\">terrible</th>\n",
       "        <th style=\"padding-left: 1em; padding-right: 1em; text-align: center\">awful</th>\n",
       "        <th style=\"padding-left: 1em; padding-right: 1em; text-align: center\">wow</th>\n",
       "        <th style=\"padding-left: 1em; padding-right: 1em; text-align: center\">hate</th>\n",
       "    </tr>\n",
       "    <tr>\n",
       "        <td style=\"padding-left: 1em; padding-right: 1em; text-align: center; vertical-align: top\">0.0</td>\n",
       "        <td style=\"padding-left: 1em; padding-right: 1em; text-align: center; vertical-align: top\">0.0</td>\n",
       "        <td style=\"padding-left: 1em; padding-right: 1em; text-align: center; vertical-align: top\">0.0</td>\n",
       "        <td style=\"padding-left: 1em; padding-right: 1em; text-align: center; vertical-align: top\">1.0</td>\n",
       "        <td style=\"padding-left: 1em; padding-right: 1em; text-align: center; vertical-align: top\">0</td>\n",
       "        <td style=\"padding-left: 1em; padding-right: 1em; text-align: center; vertical-align: top\">0</td>\n",
       "        <td style=\"padding-left: 1em; padding-right: 1em; text-align: center; vertical-align: top\">0.0</td>\n",
       "        <td style=\"padding-left: 1em; padding-right: 1em; text-align: center; vertical-align: top\">0</td>\n",
       "        <td style=\"padding-left: 1em; padding-right: 1em; text-align: center; vertical-align: top\">0</td>\n",
       "        <td style=\"padding-left: 1em; padding-right: 1em; text-align: center; vertical-align: top\">0</td>\n",
       "    </tr>\n",
       "    <tr>\n",
       "        <td style=\"padding-left: 1em; padding-right: 1em; text-align: center; vertical-align: top\">0.0</td>\n",
       "        <td style=\"padding-left: 1em; padding-right: 1em; text-align: center; vertical-align: top\">0.0</td>\n",
       "        <td style=\"padding-left: 1em; padding-right: 1em; text-align: center; vertical-align: top\">0.0</td>\n",
       "        <td style=\"padding-left: 1em; padding-right: 1em; text-align: center; vertical-align: top\">0.0</td>\n",
       "        <td style=\"padding-left: 1em; padding-right: 1em; text-align: center; vertical-align: top\">0</td>\n",
       "        <td style=\"padding-left: 1em; padding-right: 1em; text-align: center; vertical-align: top\">0</td>\n",
       "        <td style=\"padding-left: 1em; padding-right: 1em; text-align: center; vertical-align: top\">0.0</td>\n",
       "        <td style=\"padding-left: 1em; padding-right: 1em; text-align: center; vertical-align: top\">0</td>\n",
       "        <td style=\"padding-left: 1em; padding-right: 1em; text-align: center; vertical-align: top\">0</td>\n",
       "        <td style=\"padding-left: 1em; padding-right: 1em; text-align: center; vertical-align: top\">0</td>\n",
       "    </tr>\n",
       "    <tr>\n",
       "        <td style=\"padding-left: 1em; padding-right: 1em; text-align: center; vertical-align: top\">0.0</td>\n",
       "        <td style=\"padding-left: 1em; padding-right: 1em; text-align: center; vertical-align: top\">0.0</td>\n",
       "        <td style=\"padding-left: 1em; padding-right: 1em; text-align: center; vertical-align: top\">0.0</td>\n",
       "        <td style=\"padding-left: 1em; padding-right: 1em; text-align: center; vertical-align: top\">2.0</td>\n",
       "        <td style=\"padding-left: 1em; padding-right: 1em; text-align: center; vertical-align: top\">0</td>\n",
       "        <td style=\"padding-left: 1em; padding-right: 1em; text-align: center; vertical-align: top\">0</td>\n",
       "        <td style=\"padding-left: 1em; padding-right: 1em; text-align: center; vertical-align: top\">0.0</td>\n",
       "        <td style=\"padding-left: 1em; padding-right: 1em; text-align: center; vertical-align: top\">0</td>\n",
       "        <td style=\"padding-left: 1em; padding-right: 1em; text-align: center; vertical-align: top\">0</td>\n",
       "        <td style=\"padding-left: 1em; padding-right: 1em; text-align: center; vertical-align: top\">0</td>\n",
       "    </tr>\n",
       "    <tr>\n",
       "        <td style=\"padding-left: 1em; padding-right: 1em; text-align: center; vertical-align: top\">1.0</td>\n",
       "        <td style=\"padding-left: 1em; padding-right: 1em; text-align: center; vertical-align: top\">0.0</td>\n",
       "        <td style=\"padding-left: 1em; padding-right: 1em; text-align: center; vertical-align: top\">0.0</td>\n",
       "        <td style=\"padding-left: 1em; padding-right: 1em; text-align: center; vertical-align: top\">1.0</td>\n",
       "        <td style=\"padding-left: 1em; padding-right: 1em; text-align: center; vertical-align: top\">0</td>\n",
       "        <td style=\"padding-left: 1em; padding-right: 1em; text-align: center; vertical-align: top\">0</td>\n",
       "        <td style=\"padding-left: 1em; padding-right: 1em; text-align: center; vertical-align: top\">0.0</td>\n",
       "        <td style=\"padding-left: 1em; padding-right: 1em; text-align: center; vertical-align: top\">0</td>\n",
       "        <td style=\"padding-left: 1em; padding-right: 1em; text-align: center; vertical-align: top\">0</td>\n",
       "        <td style=\"padding-left: 1em; padding-right: 1em; text-align: center; vertical-align: top\">0</td>\n",
       "    </tr>\n",
       "    <tr>\n",
       "        <td style=\"padding-left: 1em; padding-right: 1em; text-align: center; vertical-align: top\">1.0</td>\n",
       "        <td style=\"padding-left: 1em; padding-right: 1em; text-align: center; vertical-align: top\">0.0</td>\n",
       "        <td style=\"padding-left: 1em; padding-right: 1em; text-align: center; vertical-align: top\">0.0</td>\n",
       "        <td style=\"padding-left: 1em; padding-right: 1em; text-align: center; vertical-align: top\">0.0</td>\n",
       "        <td style=\"padding-left: 1em; padding-right: 1em; text-align: center; vertical-align: top\">0</td>\n",
       "        <td style=\"padding-left: 1em; padding-right: 1em; text-align: center; vertical-align: top\">0</td>\n",
       "        <td style=\"padding-left: 1em; padding-right: 1em; text-align: center; vertical-align: top\">0.0</td>\n",
       "        <td style=\"padding-left: 1em; padding-right: 1em; text-align: center; vertical-align: top\">0</td>\n",
       "        <td style=\"padding-left: 1em; padding-right: 1em; text-align: center; vertical-align: top\">0</td>\n",
       "        <td style=\"padding-left: 1em; padding-right: 1em; text-align: center; vertical-align: top\">0</td>\n",
       "    </tr>\n",
       "    <tr>\n",
       "        <td style=\"padding-left: 1em; padding-right: 1em; text-align: center; vertical-align: top\">0.0</td>\n",
       "        <td style=\"padding-left: 1em; padding-right: 1em; text-align: center; vertical-align: top\">0.0</td>\n",
       "        <td style=\"padding-left: 1em; padding-right: 1em; text-align: center; vertical-align: top\">0.0</td>\n",
       "        <td style=\"padding-left: 1em; padding-right: 1em; text-align: center; vertical-align: top\">0.0</td>\n",
       "        <td style=\"padding-left: 1em; padding-right: 1em; text-align: center; vertical-align: top\">0</td>\n",
       "        <td style=\"padding-left: 1em; padding-right: 1em; text-align: center; vertical-align: top\">0</td>\n",
       "        <td style=\"padding-left: 1em; padding-right: 1em; text-align: center; vertical-align: top\">0.0</td>\n",
       "        <td style=\"padding-left: 1em; padding-right: 1em; text-align: center; vertical-align: top\">0</td>\n",
       "        <td style=\"padding-left: 1em; padding-right: 1em; text-align: center; vertical-align: top\">0</td>\n",
       "        <td style=\"padding-left: 1em; padding-right: 1em; text-align: center; vertical-align: top\">0</td>\n",
       "    </tr>\n",
       "    <tr>\n",
       "        <td style=\"padding-left: 1em; padding-right: 1em; text-align: center; vertical-align: top\">0.0</td>\n",
       "        <td style=\"padding-left: 1em; padding-right: 1em; text-align: center; vertical-align: top\">0.0</td>\n",
       "        <td style=\"padding-left: 1em; padding-right: 1em; text-align: center; vertical-align: top\">0.0</td>\n",
       "        <td style=\"padding-left: 1em; padding-right: 1em; text-align: center; vertical-align: top\">0.0</td>\n",
       "        <td style=\"padding-left: 1em; padding-right: 1em; text-align: center; vertical-align: top\">0</td>\n",
       "        <td style=\"padding-left: 1em; padding-right: 1em; text-align: center; vertical-align: top\">0</td>\n",
       "        <td style=\"padding-left: 1em; padding-right: 1em; text-align: center; vertical-align: top\">0.0</td>\n",
       "        <td style=\"padding-left: 1em; padding-right: 1em; text-align: center; vertical-align: top\">0</td>\n",
       "        <td style=\"padding-left: 1em; padding-right: 1em; text-align: center; vertical-align: top\">0</td>\n",
       "        <td style=\"padding-left: 1em; padding-right: 1em; text-align: center; vertical-align: top\">0</td>\n",
       "    </tr>\n",
       "    <tr>\n",
       "        <td style=\"padding-left: 1em; padding-right: 1em; text-align: center; vertical-align: top\">0.0</td>\n",
       "        <td style=\"padding-left: 1em; padding-right: 1em; text-align: center; vertical-align: top\">1.0</td>\n",
       "        <td style=\"padding-left: 1em; padding-right: 1em; text-align: center; vertical-align: top\">0.0</td>\n",
       "        <td style=\"padding-left: 1em; padding-right: 1em; text-align: center; vertical-align: top\">0.0</td>\n",
       "        <td style=\"padding-left: 1em; padding-right: 1em; text-align: center; vertical-align: top\">0</td>\n",
       "        <td style=\"padding-left: 1em; padding-right: 1em; text-align: center; vertical-align: top\">0</td>\n",
       "        <td style=\"padding-left: 1em; padding-right: 1em; text-align: center; vertical-align: top\">0.0</td>\n",
       "        <td style=\"padding-left: 1em; padding-right: 1em; text-align: center; vertical-align: top\">0</td>\n",
       "        <td style=\"padding-left: 1em; padding-right: 1em; text-align: center; vertical-align: top\">0</td>\n",
       "        <td style=\"padding-left: 1em; padding-right: 1em; text-align: center; vertical-align: top\">0</td>\n",
       "    </tr>\n",
       "    <tr>\n",
       "        <td style=\"padding-left: 1em; padding-right: 1em; text-align: center; vertical-align: top\">0.0</td>\n",
       "        <td style=\"padding-left: 1em; padding-right: 1em; text-align: center; vertical-align: top\">0.0</td>\n",
       "        <td style=\"padding-left: 1em; padding-right: 1em; text-align: center; vertical-align: top\">0.0</td>\n",
       "        <td style=\"padding-left: 1em; padding-right: 1em; text-align: center; vertical-align: top\">0.0</td>\n",
       "        <td style=\"padding-left: 1em; padding-right: 1em; text-align: center; vertical-align: top\">0</td>\n",
       "        <td style=\"padding-left: 1em; padding-right: 1em; text-align: center; vertical-align: top\">0</td>\n",
       "        <td style=\"padding-left: 1em; padding-right: 1em; text-align: center; vertical-align: top\">0.0</td>\n",
       "        <td style=\"padding-left: 1em; padding-right: 1em; text-align: center; vertical-align: top\">0</td>\n",
       "        <td style=\"padding-left: 1em; padding-right: 1em; text-align: center; vertical-align: top\">0</td>\n",
       "        <td style=\"padding-left: 1em; padding-right: 1em; text-align: center; vertical-align: top\">0</td>\n",
       "    </tr>\n",
       "    <tr>\n",
       "        <td style=\"padding-left: 1em; padding-right: 1em; text-align: center; vertical-align: top\">0.0</td>\n",
       "        <td style=\"padding-left: 1em; padding-right: 1em; text-align: center; vertical-align: top\">0.0</td>\n",
       "        <td style=\"padding-left: 1em; padding-right: 1em; text-align: center; vertical-align: top\">0.0</td>\n",
       "        <td style=\"padding-left: 1em; padding-right: 1em; text-align: center; vertical-align: top\">2.0</td>\n",
       "        <td style=\"padding-left: 1em; padding-right: 1em; text-align: center; vertical-align: top\">0</td>\n",
       "        <td style=\"padding-left: 1em; padding-right: 1em; text-align: center; vertical-align: top\">0</td>\n",
       "        <td style=\"padding-left: 1em; padding-right: 1em; text-align: center; vertical-align: top\">0.0</td>\n",
       "        <td style=\"padding-left: 1em; padding-right: 1em; text-align: center; vertical-align: top\">0</td>\n",
       "        <td style=\"padding-left: 1em; padding-right: 1em; text-align: center; vertical-align: top\">0</td>\n",
       "        <td style=\"padding-left: 1em; padding-right: 1em; text-align: center; vertical-align: top\">0</td>\n",
       "    </tr>\n",
       "</table>\n",
       "[166752 rows x 16 columns]<br/>Note: Only the head of the SFrame is printed.<br/>You can use print_rows(num_rows=m, num_columns=n) to print more rows and columns.\n",
       "</div>"
      ],
      "text/plain": [
       "Columns:\n",
       "\tname\tstr\n",
       "\treview\tstr\n",
       "\trating\tfloat\n",
       "\tsentiment\tint\n",
       "\tword_count\tdict\n",
       "\tawesome\tfloat\n",
       "\tgreat\tfloat\n",
       "\tfantastic\tfloat\n",
       "\tamazing\tfloat\n",
       "\tlove\tfloat\n",
       "\thorrible\tint\n",
       "\tbad\tint\n",
       "\tterrible\tfloat\n",
       "\tawful\tint\n",
       "\twow\tint\n",
       "\thate\tint\n",
       "\n",
       "Rows: 166752\n",
       "\n",
       "Data:\n",
       "+-------------------------------+-------------------------------+--------+-----------+\n",
       "|              name             |             review            | rating | sentiment |\n",
       "+-------------------------------+-------------------------------+--------+-----------+\n",
       "|     Planetwise Wipe Pouch     | it came early and was not ... |  5.0   |     1     |\n",
       "| Annas Dream Full Quilt wit... | Very soft and comfortable ... |  5.0   |     1     |\n",
       "| Stop Pacifier Sucking with... | This is a product well wor... |  5.0   |     1     |\n",
       "| Stop Pacifier Sucking with... | All of my kids have cried ... |  5.0   |     1     |\n",
       "| Stop Pacifier Sucking with... | When the Binky Fairy came ... |  5.0   |     1     |\n",
       "| A Tale of Baby's Days with... | Lovely book, it's bound ti... |  4.0   |     1     |\n",
       "| Baby Tracker&reg; - Daily ... | Perfect for new parents. W... |  5.0   |     1     |\n",
       "| Baby Tracker&reg; - Daily ... | A friend of mine pinned th... |  5.0   |     1     |\n",
       "| Baby Tracker&reg; - Daily ... | This has been an easy way ... |  4.0   |     1     |\n",
       "| Baby Tracker&reg; - Daily ... | I love this journal and ou... |  4.0   |     1     |\n",
       "+-------------------------------+-------------------------------+--------+-----------+\n",
       "+-------------------------------+---------+-------+-----------+---------+------+\n",
       "|           word_count          | awesome | great | fantastic | amazing | love |\n",
       "+-------------------------------+---------+-------+-----------+---------+------+\n",
       "| {'recommend': 1.0, 'disapp... |   0.0   |  0.0  |    0.0    |   0.0   | 1.0  |\n",
       "| {'quilt': 1.0, 'the': 1.0,... |   0.0   |  0.0  |    0.0    |   0.0   | 0.0  |\n",
       "| {'tool': 1.0, 'clever': 1.... |   0.0   |  0.0  |    0.0    |   0.0   | 2.0  |\n",
       "| {'rock': 1.0, 'many': 1.0,... |   0.0   |  1.0  |    0.0    |   0.0   | 1.0  |\n",
       "| {'thumb': 1.0, 'or': 1.0, ... |   0.0   |  1.0  |    0.0    |   0.0   | 0.0  |\n",
       "| {'for': 1.0, 'barnes': 1.0... |   0.0   |  0.0  |    0.0    |   0.0   | 0.0  |\n",
       "| {'right': 1.0, 'because': ... |   0.0   |  0.0  |    0.0    |   0.0   | 0.0  |\n",
       "| {'like': 1.0, 'and': 1.0, ... |   0.0   |  0.0  |    1.0    |   0.0   | 0.0  |\n",
       "| {'in': 1.0, 'pages': 1.0, ... |   0.0   |  0.0  |    0.0    |   0.0   | 0.0  |\n",
       "| {'tracker': 1.0, 'now': 1.... |   0.0   |  0.0  |    0.0    |   0.0   | 2.0  |\n",
       "+-------------------------------+---------+-------+-----------+---------+------+\n",
       "+----------+-----+----------+-------+-----+------+\n",
       "| horrible | bad | terrible | awful | wow | hate |\n",
       "+----------+-----+----------+-------+-----+------+\n",
       "|    0     |  0  |   0.0    |   0   |  0  |  0   |\n",
       "|    0     |  0  |   0.0    |   0   |  0  |  0   |\n",
       "|    0     |  0  |   0.0    |   0   |  0  |  0   |\n",
       "|    0     |  0  |   0.0    |   0   |  0  |  0   |\n",
       "|    0     |  0  |   0.0    |   0   |  0  |  0   |\n",
       "|    0     |  0  |   0.0    |   0   |  0  |  0   |\n",
       "|    0     |  0  |   0.0    |   0   |  0  |  0   |\n",
       "|    0     |  0  |   0.0    |   0   |  0  |  0   |\n",
       "|    0     |  0  |   0.0    |   0   |  0  |  0   |\n",
       "|    0     |  0  |   0.0    |   0   |  0  |  0   |\n",
       "+----------+-----+----------+-------+-----+------+\n",
       "[166752 rows x 16 columns]\n",
       "Note: Only the head of the SFrame is printed.\n",
       "You can use print_rows(num_rows=m, num_columns=n) to print more rows and columns."
      ]
     },
     "execution_count": 6,
     "metadata": {},
     "output_type": "execute_result"
    }
   ],
   "source": [
    "products"
   ]
  },
  {
   "cell_type": "code",
   "execution_count": 7,
   "id": "2e709e79-f767-4dc8-a4d4-be932622c1d0",
   "metadata": {},
   "outputs": [
    {
     "name": "stdout",
     "output_type": "stream",
     "text": [
      "great 55791.0\n",
      "wow 425\n"
     ]
    }
   ],
   "source": [
    "max_usage_rate = 0\n",
    "most_used_word = ''\n",
    "min_usage_rate = 10^5000\n",
    "min_used_word = ''\n",
    "for word in selected_words:\n",
    "    x = products[word].sum()\n",
    "    if x>max_usage_rate:\n",
    "        max_usage_rate = x\n",
    "        most_used_word = word\n",
    "    elif x<min_usage_rate:\n",
    "        min_usage_rate = x\n",
    "        min_used_word = word\n",
    "print(most_used_word, max_usage_rate)\n",
    "print(min_used_word, min_usage_rate)"
   ]
  },
  {
   "cell_type": "code",
   "execution_count": 8,
   "id": "9c02ad57-94f4-42b0-b180-d68a0895f97d",
   "metadata": {},
   "outputs": [],
   "source": [
    "train_data,test_data = products.random_split(.8, seed=0)"
   ]
  },
  {
   "cell_type": "code",
   "execution_count": 14,
   "id": "f4e22ea2-4371-414c-924f-a68b9964aeab",
   "metadata": {},
   "outputs": [
    {
     "data": {
      "text/html": [
       "<pre>Logistic regression:</pre>"
      ],
      "text/plain": [
       "Logistic regression:"
      ]
     },
     "metadata": {},
     "output_type": "display_data"
    },
    {
     "data": {
      "text/html": [
       "<pre>--------------------------------------------------------</pre>"
      ],
      "text/plain": [
       "--------------------------------------------------------"
      ]
     },
     "metadata": {},
     "output_type": "display_data"
    },
    {
     "data": {
      "text/html": [
       "<pre>Number of examples          : 133448</pre>"
      ],
      "text/plain": [
       "Number of examples          : 133448"
      ]
     },
     "metadata": {},
     "output_type": "display_data"
    },
    {
     "data": {
      "text/html": [
       "<pre>Number of classes           : 2</pre>"
      ],
      "text/plain": [
       "Number of classes           : 2"
      ]
     },
     "metadata": {},
     "output_type": "display_data"
    },
    {
     "data": {
      "text/html": [
       "<pre>Number of feature columns   : 11</pre>"
      ],
      "text/plain": [
       "Number of feature columns   : 11"
      ]
     },
     "metadata": {},
     "output_type": "display_data"
    },
    {
     "data": {
      "text/html": [
       "<pre>Number of unpacked features : 11</pre>"
      ],
      "text/plain": [
       "Number of unpacked features : 11"
      ]
     },
     "metadata": {},
     "output_type": "display_data"
    },
    {
     "data": {
      "text/html": [
       "<pre>Number of coefficients      : 12</pre>"
      ],
      "text/plain": [
       "Number of coefficients      : 12"
      ]
     },
     "metadata": {},
     "output_type": "display_data"
    },
    {
     "data": {
      "text/html": [
       "<pre>Starting Newton Method</pre>"
      ],
      "text/plain": [
       "Starting Newton Method"
      ]
     },
     "metadata": {},
     "output_type": "display_data"
    },
    {
     "data": {
      "text/html": [
       "<pre>--------------------------------------------------------</pre>"
      ],
      "text/plain": [
       "--------------------------------------------------------"
      ]
     },
     "metadata": {},
     "output_type": "display_data"
    },
    {
     "data": {
      "text/html": [
       "<pre>+-----------+----------+--------------+-------------------+---------------------+</pre>"
      ],
      "text/plain": [
       "+-----------+----------+--------------+-------------------+---------------------+"
      ]
     },
     "metadata": {},
     "output_type": "display_data"
    },
    {
     "data": {
      "text/html": [
       "<pre>| Iteration | Passes   | Elapsed Time | Training Accuracy | Validation Accuracy |</pre>"
      ],
      "text/plain": [
       "| Iteration | Passes   | Elapsed Time | Training Accuracy | Validation Accuracy |"
      ]
     },
     "metadata": {},
     "output_type": "display_data"
    },
    {
     "data": {
      "text/html": [
       "<pre>+-----------+----------+--------------+-------------------+---------------------+</pre>"
      ],
      "text/plain": [
       "+-----------+----------+--------------+-------------------+---------------------+"
      ]
     },
     "metadata": {},
     "output_type": "display_data"
    },
    {
     "data": {
      "text/html": [
       "<pre>| 1         | 2        | 0.024984     | 0.847401          | 0.845874            |</pre>"
      ],
      "text/plain": [
       "| 1         | 2        | 0.024984     | 0.847401          | 0.845874            |"
      ]
     },
     "metadata": {},
     "output_type": "display_data"
    },
    {
     "data": {
      "text/html": [
       "<pre>| 2         | 3        | 0.046155     | 0.847514          | 0.846085            |</pre>"
      ],
      "text/plain": [
       "| 2         | 3        | 0.046155     | 0.847514          | 0.846085            |"
      ]
     },
     "metadata": {},
     "output_type": "display_data"
    },
    {
     "data": {
      "text/html": [
       "<pre>| 3         | 4        | 0.067012     | 0.847626          | 0.846115            |</pre>"
      ],
      "text/plain": [
       "| 3         | 4        | 0.067012     | 0.847626          | 0.846115            |"
      ]
     },
     "metadata": {},
     "output_type": "display_data"
    },
    {
     "data": {
      "text/html": [
       "<pre>| 4         | 5        | 0.086275     | 0.847708          | 0.846385            |</pre>"
      ],
      "text/plain": [
       "| 4         | 5        | 0.086275     | 0.847708          | 0.846385            |"
      ]
     },
     "metadata": {},
     "output_type": "display_data"
    },
    {
     "data": {
      "text/html": [
       "<pre>| 5         | 6        | 0.106801     | 0.847708          | 0.846385            |</pre>"
      ],
      "text/plain": [
       "| 5         | 6        | 0.106801     | 0.847708          | 0.846385            |"
      ]
     },
     "metadata": {},
     "output_type": "display_data"
    },
    {
     "data": {
      "text/html": [
       "<pre>| 6         | 7        | 0.125563     | 0.847708          | 0.846385            |</pre>"
      ],
      "text/plain": [
       "| 6         | 7        | 0.125563     | 0.847708          | 0.846385            |"
      ]
     },
     "metadata": {},
     "output_type": "display_data"
    },
    {
     "data": {
      "text/html": [
       "<pre>+-----------+----------+--------------+-------------------+---------------------+</pre>"
      ],
      "text/plain": [
       "+-----------+----------+--------------+-------------------+---------------------+"
      ]
     },
     "metadata": {},
     "output_type": "display_data"
    },
    {
     "data": {
      "text/html": [
       "<pre>SUCCESS: Optimal solution found.</pre>"
      ],
      "text/plain": [
       "SUCCESS: Optimal solution found."
      ]
     },
     "metadata": {},
     "output_type": "display_data"
    },
    {
     "data": {
      "text/html": [
       "<pre></pre>"
      ],
      "text/plain": []
     },
     "metadata": {},
     "output_type": "display_data"
    },
    {
     "data": {
      "text/html": [
       "<pre>Logistic regression:</pre>"
      ],
      "text/plain": [
       "Logistic regression:"
      ]
     },
     "metadata": {},
     "output_type": "display_data"
    },
    {
     "data": {
      "text/html": [
       "<pre>--------------------------------------------------------</pre>"
      ],
      "text/plain": [
       "--------------------------------------------------------"
      ]
     },
     "metadata": {},
     "output_type": "display_data"
    },
    {
     "data": {
      "text/html": [
       "<pre>Number of examples          : 133448</pre>"
      ],
      "text/plain": [
       "Number of examples          : 133448"
      ]
     },
     "metadata": {},
     "output_type": "display_data"
    },
    {
     "data": {
      "text/html": [
       "<pre>Number of classes           : 2</pre>"
      ],
      "text/plain": [
       "Number of classes           : 2"
      ]
     },
     "metadata": {},
     "output_type": "display_data"
    },
    {
     "data": {
      "text/html": [
       "<pre>Number of feature columns   : 1</pre>"
      ],
      "text/plain": [
       "Number of feature columns   : 1"
      ]
     },
     "metadata": {},
     "output_type": "display_data"
    },
    {
     "data": {
      "text/html": [
       "<pre>Number of unpacked features : 57356</pre>"
      ],
      "text/plain": [
       "Number of unpacked features : 57356"
      ]
     },
     "metadata": {},
     "output_type": "display_data"
    },
    {
     "data": {
      "text/html": [
       "<pre>Number of coefficients      : 57357</pre>"
      ],
      "text/plain": [
       "Number of coefficients      : 57357"
      ]
     },
     "metadata": {},
     "output_type": "display_data"
    },
    {
     "data": {
      "text/html": [
       "<pre>Starting L-BFGS</pre>"
      ],
      "text/plain": [
       "Starting L-BFGS"
      ]
     },
     "metadata": {},
     "output_type": "display_data"
    },
    {
     "data": {
      "text/html": [
       "<pre>--------------------------------------------------------</pre>"
      ],
      "text/plain": [
       "--------------------------------------------------------"
      ]
     },
     "metadata": {},
     "output_type": "display_data"
    },
    {
     "data": {
      "text/html": [
       "<pre>+-----------+----------+-----------+--------------+-------------------+---------------------+</pre>"
      ],
      "text/plain": [
       "+-----------+----------+-----------+--------------+-------------------+---------------------+"
      ]
     },
     "metadata": {},
     "output_type": "display_data"
    },
    {
     "data": {
      "text/html": [
       "<pre>| Iteration | Passes   | Step size | Elapsed Time | Training Accuracy | Validation Accuracy |</pre>"
      ],
      "text/plain": [
       "| Iteration | Passes   | Step size | Elapsed Time | Training Accuracy | Validation Accuracy |"
      ]
     },
     "metadata": {},
     "output_type": "display_data"
    },
    {
     "data": {
      "text/html": [
       "<pre>+-----------+----------+-----------+--------------+-------------------+---------------------+</pre>"
      ],
      "text/plain": [
       "+-----------+----------+-----------+--------------+-------------------+---------------------+"
      ]
     },
     "metadata": {},
     "output_type": "display_data"
    },
    {
     "data": {
      "text/html": [
       "<pre>| 0         | 4        | 0.250000  | 0.284002     | 0.841421          | 0.840019            |</pre>"
      ],
      "text/plain": [
       "| 0         | 4        | 0.250000  | 0.284002     | 0.841421          | 0.840019            |"
      ]
     },
     "metadata": {},
     "output_type": "display_data"
    },
    {
     "data": {
      "text/html": [
       "<pre>| 1         | 9        | 3.250000  | 0.726387     | 0.931359          | 0.911362            |</pre>"
      ],
      "text/plain": [
       "| 1         | 9        | 3.250000  | 0.726387     | 0.931359          | 0.911362            |"
      ]
     },
     "metadata": {},
     "output_type": "display_data"
    },
    {
     "data": {
      "text/html": [
       "<pre>| 2         | 11       | 2.669978  | 0.950669     | 0.938650          | 0.916466            |</pre>"
      ],
      "text/plain": [
       "| 2         | 11       | 2.669978  | 0.950669     | 0.938650          | 0.916466            |"
      ]
     },
     "metadata": {},
     "output_type": "display_data"
    },
    {
     "data": {
      "text/html": [
       "<pre>| 3         | 12       | 2.669978  | 1.103070     | 0.927417          | 0.901814            |</pre>"
      ],
      "text/plain": [
       "| 3         | 12       | 2.669978  | 1.103070     | 0.927417          | 0.901814            |"
      ]
     },
     "metadata": {},
     "output_type": "display_data"
    },
    {
     "data": {
      "text/html": [
       "<pre>| 4         | 14       | 1.326072  | 1.341517     | 0.945200          | 0.918088            |</pre>"
      ],
      "text/plain": [
       "| 4         | 14       | 1.326072  | 1.341517     | 0.945200          | 0.918088            |"
      ]
     },
     "metadata": {},
     "output_type": "display_data"
    },
    {
     "data": {
      "text/html": [
       "<pre>| 9         | 20       | 1.326072  | 2.117359     | 0.977654          | 0.917698            |</pre>"
      ],
      "text/plain": [
       "| 9         | 20       | 1.326072  | 2.117359     | 0.977654          | 0.917698            |"
      ]
     },
     "metadata": {},
     "output_type": "display_data"
    },
    {
     "data": {
      "text/html": [
       "<pre>+-----------+----------+-----------+--------------+-------------------+---------------------+</pre>"
      ],
      "text/plain": [
       "+-----------+----------+-----------+--------------+-------------------+---------------------+"
      ]
     },
     "metadata": {},
     "output_type": "display_data"
    }
   ],
   "source": [
    "selected_words_model = tc.logistic_classifier.create(train_data,target='sentiment', features=selected_words, validation_set=test_data)\n",
    "sentiment_model = tc.logistic_classifier.create(train_data,target='sentiment', features=['word_count'], validation_set=test_data)"
   ]
  },
  {
   "cell_type": "code",
   "execution_count": 28,
   "id": "7edcc3d7-65a7-4c90-b79c-c59eb121f3b3",
   "metadata": {},
   "outputs": [
    {
     "name": "stdout",
     "output_type": "stream",
     "text": [
      "+-----------+-------+-------+-----------------------+----------------------+\n",
      "|    name   | index | class |         value         |        stderr        |\n",
      "+-----------+-------+-------+-----------------------+----------------------+\n",
      "|  horrible |  None |   1   |   -2.251335236759098  | 0.08020249388788436  |\n",
      "|  terrible |  None |   1   |   -2.223661436085132  | 0.07731736203785752  |\n",
      "|   awful   |  None |   1   |  -2.0529082040313567  | 0.10099735435259254  |\n",
      "|    hate   |  None |   1   |  -1.3484407222463166  | 0.07715698604297333  |\n",
      "|    bad    |  None |   1   |  -0.9914778800650621  | 0.038484286646990606 |\n",
      "|    wow    |  None |   1   | -0.009538236067684405 |  0.1604641122471165  |\n",
      "|   great   |  None |   1   |   0.8630655001196581  | 0.018955052444376858 |\n",
      "| fantastic |  None |   1   |   0.8858047568814243  |  0.1116759129339967  |\n",
      "|  amazing  |  None |   1   |   1.1000933113660234  | 0.09954776260465989  |\n",
      "|  awesome  |  None |   1   |   1.1335346660341385  |  0.0839964398318753  |\n",
      "+-----------+-------+-------+-----------------------+----------------------+\n",
      "[12 rows x 5 columns]\n",
      "\n"
     ]
    }
   ],
   "source": [
    "selected_words_model.coefficients.sort('value').print_rows()"
   ]
  },
  {
   "cell_type": "code",
   "execution_count": 16,
   "id": "472b555a-438e-4406-b48f-e42eafa8db44",
   "metadata": {},
   "outputs": [
    {
     "data": {
      "text/html": [
       "<div style=\"max-height:1000px;max-width:1500px;overflow:auto;\"><table frame=\"box\" rules=\"cols\">\n",
       "    <tr>\n",
       "        <th style=\"padding-left: 1em; padding-right: 1em; text-align: center\">name</th>\n",
       "        <th style=\"padding-left: 1em; padding-right: 1em; text-align: center\">index</th>\n",
       "        <th style=\"padding-left: 1em; padding-right: 1em; text-align: center\">class</th>\n",
       "        <th style=\"padding-left: 1em; padding-right: 1em; text-align: center\">value</th>\n",
       "        <th style=\"padding-left: 1em; padding-right: 1em; text-align: center\">stderr</th>\n",
       "    </tr>\n",
       "    <tr>\n",
       "        <td style=\"padding-left: 1em; padding-right: 1em; text-align: center; vertical-align: top\">(intercept)</td>\n",
       "        <td style=\"padding-left: 1em; padding-right: 1em; text-align: center; vertical-align: top\">None</td>\n",
       "        <td style=\"padding-left: 1em; padding-right: 1em; text-align: center; vertical-align: top\">1</td>\n",
       "        <td style=\"padding-left: 1em; padding-right: 1em; text-align: center; vertical-align: top\">1.336591384887764</td>\n",
       "        <td style=\"padding-left: 1em; padding-right: 1em; text-align: center; vertical-align: top\">0.008929969787656441</td>\n",
       "    </tr>\n",
       "    <tr>\n",
       "        <td style=\"padding-left: 1em; padding-right: 1em; text-align: center; vertical-align: top\">awesome</td>\n",
       "        <td style=\"padding-left: 1em; padding-right: 1em; text-align: center; vertical-align: top\">None</td>\n",
       "        <td style=\"padding-left: 1em; padding-right: 1em; text-align: center; vertical-align: top\">1</td>\n",
       "        <td style=\"padding-left: 1em; padding-right: 1em; text-align: center; vertical-align: top\">1.1335346660341385</td>\n",
       "        <td style=\"padding-left: 1em; padding-right: 1em; text-align: center; vertical-align: top\">0.0839964398318753</td>\n",
       "    </tr>\n",
       "    <tr>\n",
       "        <td style=\"padding-left: 1em; padding-right: 1em; text-align: center; vertical-align: top\">great</td>\n",
       "        <td style=\"padding-left: 1em; padding-right: 1em; text-align: center; vertical-align: top\">None</td>\n",
       "        <td style=\"padding-left: 1em; padding-right: 1em; text-align: center; vertical-align: top\">1</td>\n",
       "        <td style=\"padding-left: 1em; padding-right: 1em; text-align: center; vertical-align: top\">0.8630655001196581</td>\n",
       "        <td style=\"padding-left: 1em; padding-right: 1em; text-align: center; vertical-align: top\">0.018955052444376858</td>\n",
       "    </tr>\n",
       "    <tr>\n",
       "        <td style=\"padding-left: 1em; padding-right: 1em; text-align: center; vertical-align: top\">fantastic</td>\n",
       "        <td style=\"padding-left: 1em; padding-right: 1em; text-align: center; vertical-align: top\">None</td>\n",
       "        <td style=\"padding-left: 1em; padding-right: 1em; text-align: center; vertical-align: top\">1</td>\n",
       "        <td style=\"padding-left: 1em; padding-right: 1em; text-align: center; vertical-align: top\">0.8858047568814243</td>\n",
       "        <td style=\"padding-left: 1em; padding-right: 1em; text-align: center; vertical-align: top\">0.1116759129339967</td>\n",
       "    </tr>\n",
       "    <tr>\n",
       "        <td style=\"padding-left: 1em; padding-right: 1em; text-align: center; vertical-align: top\">amazing</td>\n",
       "        <td style=\"padding-left: 1em; padding-right: 1em; text-align: center; vertical-align: top\">None</td>\n",
       "        <td style=\"padding-left: 1em; padding-right: 1em; text-align: center; vertical-align: top\">1</td>\n",
       "        <td style=\"padding-left: 1em; padding-right: 1em; text-align: center; vertical-align: top\">1.1000933113660234</td>\n",
       "        <td style=\"padding-left: 1em; padding-right: 1em; text-align: center; vertical-align: top\">0.09954776260465989</td>\n",
       "    </tr>\n",
       "    <tr>\n",
       "        <td style=\"padding-left: 1em; padding-right: 1em; text-align: center; vertical-align: top\">love</td>\n",
       "        <td style=\"padding-left: 1em; padding-right: 1em; text-align: center; vertical-align: top\">None</td>\n",
       "        <td style=\"padding-left: 1em; padding-right: 1em; text-align: center; vertical-align: top\">1</td>\n",
       "        <td style=\"padding-left: 1em; padding-right: 1em; text-align: center; vertical-align: top\">1.3592688669225095</td>\n",
       "        <td style=\"padding-left: 1em; padding-right: 1em; text-align: center; vertical-align: top\">0.028068300152099074</td>\n",
       "    </tr>\n",
       "    <tr>\n",
       "        <td style=\"padding-left: 1em; padding-right: 1em; text-align: center; vertical-align: top\">horrible</td>\n",
       "        <td style=\"padding-left: 1em; padding-right: 1em; text-align: center; vertical-align: top\">None</td>\n",
       "        <td style=\"padding-left: 1em; padding-right: 1em; text-align: center; vertical-align: top\">1</td>\n",
       "        <td style=\"padding-left: 1em; padding-right: 1em; text-align: center; vertical-align: top\">-2.251335236759098</td>\n",
       "        <td style=\"padding-left: 1em; padding-right: 1em; text-align: center; vertical-align: top\">0.08020249388788436</td>\n",
       "    </tr>\n",
       "    <tr>\n",
       "        <td style=\"padding-left: 1em; padding-right: 1em; text-align: center; vertical-align: top\">bad</td>\n",
       "        <td style=\"padding-left: 1em; padding-right: 1em; text-align: center; vertical-align: top\">None</td>\n",
       "        <td style=\"padding-left: 1em; padding-right: 1em; text-align: center; vertical-align: top\">1</td>\n",
       "        <td style=\"padding-left: 1em; padding-right: 1em; text-align: center; vertical-align: top\">-0.9914778800650621</td>\n",
       "        <td style=\"padding-left: 1em; padding-right: 1em; text-align: center; vertical-align: top\">0.038484286646990606</td>\n",
       "    </tr>\n",
       "    <tr>\n",
       "        <td style=\"padding-left: 1em; padding-right: 1em; text-align: center; vertical-align: top\">terrible</td>\n",
       "        <td style=\"padding-left: 1em; padding-right: 1em; text-align: center; vertical-align: top\">None</td>\n",
       "        <td style=\"padding-left: 1em; padding-right: 1em; text-align: center; vertical-align: top\">1</td>\n",
       "        <td style=\"padding-left: 1em; padding-right: 1em; text-align: center; vertical-align: top\">-2.223661436085132</td>\n",
       "        <td style=\"padding-left: 1em; padding-right: 1em; text-align: center; vertical-align: top\">0.07731736203785752</td>\n",
       "    </tr>\n",
       "    <tr>\n",
       "        <td style=\"padding-left: 1em; padding-right: 1em; text-align: center; vertical-align: top\">awful</td>\n",
       "        <td style=\"padding-left: 1em; padding-right: 1em; text-align: center; vertical-align: top\">None</td>\n",
       "        <td style=\"padding-left: 1em; padding-right: 1em; text-align: center; vertical-align: top\">1</td>\n",
       "        <td style=\"padding-left: 1em; padding-right: 1em; text-align: center; vertical-align: top\">-2.0529082040313567</td>\n",
       "        <td style=\"padding-left: 1em; padding-right: 1em; text-align: center; vertical-align: top\">0.10099735435259254</td>\n",
       "    </tr>\n",
       "</table>\n",
       "[12 rows x 5 columns]<br/>Note: Only the head of the SFrame is printed.<br/>You can use print_rows(num_rows=m, num_columns=n) to print more rows and columns.\n",
       "</div>"
      ],
      "text/plain": [
       "Columns:\n",
       "\tname\tstr\n",
       "\tindex\tstr\n",
       "\tclass\tint\n",
       "\tvalue\tfloat\n",
       "\tstderr\tfloat\n",
       "\n",
       "Rows: 12\n",
       "\n",
       "Data:\n",
       "+-------------+-------+-------+---------------------+----------------------+\n",
       "|     name    | index | class |        value        |        stderr        |\n",
       "+-------------+-------+-------+---------------------+----------------------+\n",
       "| (intercept) |  None |   1   |  1.336591384887764  | 0.008929969787656441 |\n",
       "|   awesome   |  None |   1   |  1.1335346660341385 |  0.0839964398318753  |\n",
       "|    great    |  None |   1   |  0.8630655001196581 | 0.018955052444376858 |\n",
       "|  fantastic  |  None |   1   |  0.8858047568814243 |  0.1116759129339967  |\n",
       "|   amazing   |  None |   1   |  1.1000933113660234 | 0.09954776260465989  |\n",
       "|     love    |  None |   1   |  1.3592688669225095 | 0.028068300152099074 |\n",
       "|   horrible  |  None |   1   |  -2.251335236759098 | 0.08020249388788436  |\n",
       "|     bad     |  None |   1   | -0.9914778800650621 | 0.038484286646990606 |\n",
       "|   terrible  |  None |   1   |  -2.223661436085132 | 0.07731736203785752  |\n",
       "|    awful    |  None |   1   | -2.0529082040313567 | 0.10099735435259254  |\n",
       "+-------------+-------+-------+---------------------+----------------------+\n",
       "[12 rows x 5 columns]\n",
       "Note: Only the head of the SFrame is printed.\n",
       "You can use print_rows(num_rows=m, num_columns=n) to print more rows and columns."
      ]
     },
     "execution_count": 16,
     "metadata": {},
     "output_type": "execute_result"
    }
   ],
   "source": [
    "selected_words_model.coefficients"
   ]
  },
  {
   "cell_type": "code",
   "execution_count": 18,
   "id": "fc52d649-6785-4652-8441-694ca8e7bb3e",
   "metadata": {},
   "outputs": [],
   "source": [
    "evaluate_selected = selected_words_model.evaluate(test_data)\n",
    "evaluate_original = sentiment_model.evaluate(test_data)"
   ]
  },
  {
   "cell_type": "code",
   "execution_count": 19,
   "id": "aabe708e-fbd3-438f-a751-ca108f4f912a",
   "metadata": {},
   "outputs": [
    {
     "name": "stdout",
     "output_type": "stream",
     "text": [
      "{'accuracy': 0.8463848186404036, 'auc': 0.6935096220934976, 'confusion_matrix': Columns:\n",
      "\ttarget_label\tint\n",
      "\tpredicted_label\tint\n",
      "\tcount\tint\n",
      "\n",
      "Rows: 4\n",
      "\n",
      "Data:\n",
      "+--------------+-----------------+-------+\n",
      "| target_label | predicted_label | count |\n",
      "+--------------+-----------------+-------+\n",
      "|      1       |        0        |  159  |\n",
      "|      0       |        0        |  371  |\n",
      "|      0       |        1        |  4957 |\n",
      "|      1       |        1        | 27817 |\n",
      "+--------------+-----------------+-------+\n",
      "[4 rows x 3 columns]\n",
      ", 'f1_score': 0.9157860082304526, 'log_loss': 0.39622654670874075, 'precision': 0.8487520595594068, 'recall': 0.9943165570488991, 'roc_curve': Columns:\n",
      "\tthreshold\tfloat\n",
      "\tfpr\tfloat\n",
      "\ttpr\tfloat\n",
      "\tp\tint\n",
      "\tn\tint\n",
      "\n",
      "Rows: 1001\n",
      "\n",
      "Data:\n",
      "+-----------+--------------------+-----+-------+------+\n",
      "| threshold |        fpr         | tpr |   p   |  n   |\n",
      "+-----------+--------------------+-----+-------+------+\n",
      "|    0.0    |        1.0         | 1.0 | 27976 | 5328 |\n",
      "|   0.001   | 0.9994369369369369 | 1.0 | 27976 | 5328 |\n",
      "|   0.002   | 0.9992492492492493 | 1.0 | 27976 | 5328 |\n",
      "|   0.003   | 0.9990615615615616 | 1.0 | 27976 | 5328 |\n",
      "|   0.004   | 0.9990615615615616 | 1.0 | 27976 | 5328 |\n",
      "|   0.005   | 0.9981231231231231 | 1.0 | 27976 | 5328 |\n",
      "|   0.006   | 0.9981231231231231 | 1.0 | 27976 | 5328 |\n",
      "|   0.007   | 0.9979354354354354 | 1.0 | 27976 | 5328 |\n",
      "|   0.008   | 0.9973723723723724 | 1.0 | 27976 | 5328 |\n",
      "|   0.009   | 0.9971846846846847 | 1.0 | 27976 | 5328 |\n",
      "+-----------+--------------------+-----+-------+------+\n",
      "[1001 rows x 5 columns]\n",
      "Note: Only the head of the SFrame is printed.\n",
      "You can use print_rows(num_rows=m, num_columns=n) to print more rows and columns.}\n"
     ]
    }
   ],
   "source": [
    "print(evaluate_selected)"
   ]
  },
  {
   "cell_type": "code",
   "execution_count": 20,
   "id": "5fb5565c-a6a7-4bec-9643-f4ca8d63289d",
   "metadata": {},
   "outputs": [
    {
     "name": "stdout",
     "output_type": "stream",
     "text": [
      "{'accuracy': 0.9176975738650012, 'auc': 0.9258242975424673, 'confusion_matrix': Columns:\n",
      "\ttarget_label\tint\n",
      "\tpredicted_label\tint\n",
      "\tcount\tint\n",
      "\n",
      "Rows: 4\n",
      "\n",
      "Data:\n",
      "+--------------+-----------------+-------+\n",
      "| target_label | predicted_label | count |\n",
      "+--------------+-----------------+-------+\n",
      "|      0       |        1        |  1397 |\n",
      "|      1       |        0        |  1344 |\n",
      "|      0       |        0        |  3931 |\n",
      "|      1       |        1        | 26632 |\n",
      "+--------------+-----------------+-------+\n",
      "[4 rows x 3 columns]\n",
      ", 'f1_score': 0.951057941255245, 'log_loss': 0.3304787187240578, 'precision': 0.9501587641371436, 'recall': 0.9519588218472976, 'roc_curve': Columns:\n",
      "\tthreshold\tfloat\n",
      "\tfpr\tfloat\n",
      "\ttpr\tfloat\n",
      "\tp\tint\n",
      "\tn\tint\n",
      "\n",
      "Rows: 1001\n",
      "\n",
      "Data:\n",
      "+-----------+--------------------+--------------------+-------+------+\n",
      "| threshold |        fpr         |        tpr         |   p   |  n   |\n",
      "+-----------+--------------------+--------------------+-------+------+\n",
      "|    0.0    |        1.0         |        1.0         | 27976 | 5328 |\n",
      "|   0.001   | 0.698948948948949  | 0.9933514440949385 | 27976 | 5328 |\n",
      "|   0.002   | 0.6619744744744744 | 0.9922076065198742 | 27976 | 5328 |\n",
      "|   0.003   | 0.6385135135135135 | 0.9909922790963683 | 27976 | 5328 |\n",
      "|   0.004   |  0.62256006006006  | 0.9903846153846154 | 27976 | 5328 |\n",
      "|   0.005   | 0.6112987987987988 | 0.989848441521304  | 27976 | 5328 |\n",
      "|   0.006   | 0.6002252252252253 | 0.9894195024306548 | 27976 | 5328 |\n",
      "|   0.007   | 0.589527027027027  | 0.9888475836431226 | 27976 | 5328 |\n",
      "|   0.008   | 0.5816441441441441 | 0.9883828996282528 | 27976 | 5328 |\n",
      "|   0.009   | 0.574512012012012  | 0.9880611953102659 | 27976 | 5328 |\n",
      "+-----------+--------------------+--------------------+-------+------+\n",
      "[1001 rows x 5 columns]\n",
      "Note: Only the head of the SFrame is printed.\n",
      "You can use print_rows(num_rows=m, num_columns=n) to print more rows and columns.}\n"
     ]
    }
   ],
   "source": [
    "print(evaluate_original)"
   ]
  },
  {
   "cell_type": "code",
   "execution_count": 22,
   "id": "0607a7c5-21aa-4d28-bfb0-4417498dccf2",
   "metadata": {},
   "outputs": [],
   "source": [
    "products['predicted_sentiment_original'] = sentiment_model.predict(products, output_type = 'probability')\n",
    "products['predicted_sentiment_selected'] = selected_words_model.predict(products, output_type = 'probability')"
   ]
  },
  {
   "cell_type": "code",
   "execution_count": 23,
   "id": "37adc328-4371-43fc-a57f-c7ad995fd882",
   "metadata": {},
   "outputs": [
    {
     "name": "stdout",
     "output_type": "stream",
     "text": [
      "+-------------------------------+-------------------------------+--------+-----------+\n",
      "|              name             |             review            | rating | sentiment |\n",
      "+-------------------------------+-------------------------------+--------+-----------+\n",
      "| Vulli Sophie the Giraffe T... | Sophie, oh Sophie, your ti... |  5.0   |     1     |\n",
      "| Vulli Sophie the Giraffe T... | I'll be honest...I bought ... |  4.0   |     1     |\n",
      "| Vulli Sophie the Giraffe T... | As a mother of 16month old... |  5.0   |     1     |\n",
      "| Vulli Sophie the Giraffe T... | We got this little giraffe... |  5.0   |     1     |\n",
      "| Vulli Sophie the Giraffe T... | As every mom knows, you al... |  5.0   |     1     |\n",
      "| Vulli Sophie the Giraffe T... | My Mom-in-Law bought Sophi... |  5.0   |     1     |\n",
      "| Vulli Sophie the Giraffe T... | My 4 month old son is teet... |  4.0   |     1     |\n",
      "| Vulli Sophie the Giraffe T... | Let me just start off by a... |  5.0   |     1     |\n",
      "| Vulli Sophie the Giraffe T... | I'm not sure why Sophie is... |  4.0   |     1     |\n",
      "| Vulli Sophie the Giraffe T... | I admit, I didn't get Soph... |  4.0   |     1     |\n",
      "+-------------------------------+-------------------------------+--------+-----------+\n",
      "+-------------------------------+---------+-------+-----------+---------+------+\n",
      "|           word_count          | awesome | great | fantastic | amazing | love |\n",
      "+-------------------------------+---------+-------+-----------+---------+------+\n",
      "| {'11': 1.0, 'prisrob': 1.0... |   0.0   |  0.0  |    0.0    |   0.0   | 1.0  |\n",
      "| {'around': 1.0, 'explore':... |   0.0   |  1.0  |    0.0    |   0.0   | 0.0  |\n",
      "| {'will': 1.0, '15months': ... |   0.0   |  2.0  |    0.0    |   0.0   | 1.0  |\n",
      "| {'out': 1.0, 've': 1.0, 'w... |   0.0   |  0.0  |    0.0    |   0.0   | 0.0  |\n",
      "| {'whether': 1.0, 'neutral'... |   0.0   |  0.0  |    0.0    |   0.0   | 0.0  |\n",
      "| {'penny': 1.0, 'little': 1... |   0.0   |  0.0  |    0.0    |   0.0   | 2.0  |\n",
      "| {'worth': 1.0, 'works': 1.... |   0.0   |  0.0  |    0.0    |   0.0   | 0.0  |\n",
      "| {'question': 1.0, 'must': ... |   0.0   |  0.0  |    0.0    |   0.0   | 0.0  |\n",
      "| {'makers': 1.0, 'or': 1.0,... |   0.0   |  0.0  |    0.0    |   0.0   | 0.0  |\n",
      "| {'dye': 1.0, 'of': 1.0, 'c... |   0.0   |  1.0  |    0.0    |   0.0   | 1.0  |\n",
      "+-------------------------------+---------+-------+-----------+---------+------+\n",
      "+----------+-----+----------+-------+-----+------+------------------------------+\n",
      "| horrible | bad | terrible | awful | wow | hate | predicted_sentiment_original |\n",
      "+----------+-----+----------+-------+-----+------+------------------------------+\n",
      "|    0     |  0  |   0.0    |   0   |  0  |  0   |             1.0              |\n",
      "|    0     |  0  |   0.0    |   0   |  0  |  0   |             1.0              |\n",
      "|    0     |  1  |   0.0    |   0   |  0  |  0   |             1.0              |\n",
      "|    0     |  0  |   0.0    |   0   |  0  |  0   |      0.9999999999998377      |\n",
      "|    0     |  0  |   0.0    |   0   |  0  |  0   |      0.9999999999998284      |\n",
      "|    0     |  0  |   0.0    |   0   |  0  |  0   |      0.9999999999997958      |\n",
      "|    0     |  0  |   0.0    |   0   |  0  |  0   |      0.9999999999994914      |\n",
      "|    0     |  0  |   0.0    |   0   |  0  |  0   |      0.9999999999941254      |\n",
      "|    0     |  0  |   0.0    |   0   |  0  |  0   |      0.999999999987423       |\n",
      "|    0     |  0  |   0.0    |   0   |  0  |  0   |      0.9999999999829475      |\n",
      "+----------+-----+----------+-------+-----+------+------------------------------+\n",
      "+------------------------------+\n",
      "| predicted_sentiment_selected |\n",
      "+------------------------------+\n",
      "|      0.9367819244799371      |\n",
      "|      0.9002186948093646      |\n",
      "|      0.9686446637295736      |\n",
      "|      0.7919288370624468      |\n",
      "|      0.7919288370624468      |\n",
      "|      0.9829620803909052      |\n",
      "|      0.7919288370624468      |\n",
      "|      0.7919288370624468      |\n",
      "|      0.7919288370624468      |\n",
      "|      0.972318678885589       |\n",
      "+------------------------------+\n",
      "[723 rows x 18 columns]\n",
      "Note: Only the head of the SFrame is printed.\n",
      "You can use print_rows(num_rows=m, num_columns=n) to print more rows and columns.\n",
      "+-------------------------------+-------------------------------+--------+-----------+\n",
      "|              name             |             review            | rating | sentiment |\n",
      "+-------------------------------+-------------------------------+--------+-----------+\n",
      "| Vulli Sophie the Giraffe T... | Great feel, great squeek, ... |  5.0   |     1     |\n",
      "| Vulli Sophie the Giraffe T... | Sophie is one of my daught... |  5.0   |     1     |\n",
      "| Vulli Sophie the Giraffe T... | Love it! Love it! Love it!... |  5.0   |     1     |\n",
      "| Vulli Sophie the Giraffe T... | We love Sophie at our hous... |  5.0   |     1     |\n",
      "| Vulli Sophie the Giraffe T... | Had one for my first two c... |  5.0   |     1     |\n",
      "| Vulli Sophie the Giraffe T... | My 5mo daughter is complet... |  5.0   |     1     |\n",
      "| Vulli Sophie the Giraffe T... | All my grandbabies love th... |  5.0   |     1     |\n",
      "| Vulli Sophie the Giraffe T... | This is the first review I... |  4.0   |     1     |\n",
      "| Vulli Sophie the Giraffe T... | Being a child photographer... |  4.0   |     1     |\n",
      "| Vulli Sophie the Giraffe T... | We just got our adorable S... |  5.0   |     1     |\n",
      "+-------------------------------+-------------------------------+--------+-----------+\n",
      "+-------------------------------+---------+-------+-----------+---------+------+\n",
      "|           word_count          | awesome | great | fantastic | amazing | love |\n",
      "+-------------------------------+---------+-------+-----------+---------+------+\n",
      "| {'forever': 1.0, 'saving':... |   0.0   |  5.0  |    0.0    |   0.0   | 0.0  |\n",
      "| {'love': 3.0, 'she': 1.0, ... |   0.0   |  0.0  |    0.0    |   0.0   | 3.0  |\n",
      "| {'this': 1.0, 'before': 1.... |   0.0   |  0.0  |    0.0    |   0.0   | 3.0  |\n",
      "| {'so': 1.0, 'too': 1.0, 'w... |   0.0   |  3.0  |    0.0    |   0.0   | 1.0  |\n",
      "| {'new': 1.0, 'something': ... |   0.0   |  1.0  |    0.0    |   0.0   | 2.0  |\n",
      "| {'baby': 1.0, 'gift': 1.0,... |   0.0   |  1.0  |    0.0    |   0.0   | 2.0  |\n",
      "| {'because': 1.0, 'on': 1.0... |   0.0   |  1.0  |    0.0    |   0.0   | 2.0  |\n",
      "| {'worth': 1.0, 'few': 1.0,... |   0.0   |  1.0  |    0.0    |   0.0   | 2.0  |\n",
      "| {'though': 1.0, 'will': 1.... |   0.0   |  1.0  |    0.0    |   0.0   | 2.0  |\n",
      "| {'paint': 1.0, 'rubber': 1... |   0.0   |  1.0  |    0.0    |   0.0   | 2.0  |\n",
      "+-------------------------------+---------+-------+-----------+---------+------+\n",
      "+----------+-----+----------+-------+-----+------+------------------------------+\n",
      "| horrible | bad | terrible | awful | wow | hate | predicted_sentiment_original |\n",
      "+----------+-----+----------+-------+-----+------+------------------------------+\n",
      "|    0     |  0  |   0.0    |   0   |  0  |  0   |      0.9999999153367956      |\n",
      "|    0     |  0  |   0.0    |   0   |  0  |  0   |      0.9999436870400553      |\n",
      "|    0     |  0  |   0.0    |   0   |  0  |  0   |      0.9999234753994344      |\n",
      "|    0     |  0  |   0.0    |   0   |  0  |  0   |      0.9999999711826573      |\n",
      "|    0     |  0  |   0.0    |   0   |  0  |  0   |      0.9999469281628331      |\n",
      "|    0     |  0  |   0.0    |   0   |  0  |  0   |      0.9999699157751492      |\n",
      "|    0     |  0  |   0.0    |   0   |  0  |  0   |      0.9999783870214866      |\n",
      "|    0     |  0  |   0.0    |   0   |  0  |  0   |      0.9999999141541417      |\n",
      "|    0     |  0  |   0.0    |   0   |  0  |  0   |      0.9999999912789339      |\n",
      "|    0     |  0  |   0.0    |   0   |  0  |  0   |      0.9999999997368798      |\n",
      "+----------+-----+----------+-------+-----+------+------------------------------+\n",
      "+------------------------------+\n",
      "| predicted_sentiment_selected |\n",
      "+------------------------------+\n",
      "|      0.9965015088752052      |\n",
      "|      0.9955677154227357      |\n",
      "|      0.9955677154227357      |\n",
      "|      0.9949587978526628      |\n",
      "|      0.9927407614162662      |\n",
      "|      0.9927407614162662      |\n",
      "|      0.9927407614162662      |\n",
      "|      0.9927407614162662      |\n",
      "|      0.9927407614162662      |\n",
      "|      0.9927407614162662      |\n",
      "+------------------------------+\n",
      "[723 rows x 18 columns]\n",
      "Note: Only the head of the SFrame is printed.\n",
      "You can use print_rows(num_rows=m, num_columns=n) to print more rows and columns.\n"
     ]
    }
   ],
   "source": [
    "giraffe_reviews = products[products['name']== 'Vulli Sophie the Giraffe Teether']\n",
    "giraffe_reviews = giraffe_reviews.sort('predicted_sentiment_original', ascending=False)\n",
    "print(giraffe_reviews)\n",
    "giraffe_reviews = giraffe_reviews.sort('predicted_sentiment_selected', ascending=False)\n",
    "print(giraffe_reviews)"
   ]
  },
  {
   "cell_type": "code",
   "execution_count": 25,
   "id": "08b6baf3-4d4b-4e43-b3dd-35a07c67d5b0",
   "metadata": {},
   "outputs": [],
   "source": [
    "evaluate_giraffe_selected = selected_words_model.evaluate(giraffe_reviews)\n",
    "evaluate_giraffe_original = sentiment_model.evaluate(giraffe_reviews)"
   ]
  },
  {
   "cell_type": "code",
   "execution_count": 26,
   "id": "81e45b25-4471-4e89-965a-8db64118b066",
   "metadata": {},
   "outputs": [
    {
     "name": "stdout",
     "output_type": "stream",
     "text": [
      "{'accuracy': 0.8755186721991701, 'auc': 0.6612903225806451, 'confusion_matrix': Columns:\n",
      "\ttarget_label\tint\n",
      "\tpredicted_label\tint\n",
      "\tcount\tint\n",
      "\n",
      "Rows: 4\n",
      "\n",
      "Data:\n",
      "+--------------+-----------------+-------+\n",
      "| target_label | predicted_label | count |\n",
      "+--------------+-----------------+-------+\n",
      "|      0       |        1        |   87  |\n",
      "|      1       |        1        |  627  |\n",
      "|      0       |        0        |   6   |\n",
      "|      1       |        0        |   3   |\n",
      "+--------------+-----------------+-------+\n",
      "[4 rows x 3 columns]\n",
      ", 'f1_score': 0.9330357142857142, 'log_loss': 0.3647694138336622, 'precision': 0.8781512605042017, 'recall': 0.9952380952380953, 'roc_curve': Columns:\n",
      "\tthreshold\tfloat\n",
      "\tfpr\tfloat\n",
      "\ttpr\tfloat\n",
      "\tp\tint\n",
      "\tn\tint\n",
      "\n",
      "Rows: 1001\n",
      "\n",
      "Data:\n",
      "+-----------+-----+-----+-----+----+\n",
      "| threshold | fpr | tpr |  p  | n  |\n",
      "+-----------+-----+-----+-----+----+\n",
      "|    0.0    | 1.0 | 1.0 | 630 | 93 |\n",
      "|   0.001   | 1.0 | 1.0 | 630 | 93 |\n",
      "|   0.002   | 1.0 | 1.0 | 630 | 93 |\n",
      "|   0.003   | 1.0 | 1.0 | 630 | 93 |\n",
      "|   0.004   | 1.0 | 1.0 | 630 | 93 |\n",
      "|   0.005   | 1.0 | 1.0 | 630 | 93 |\n",
      "|   0.006   | 1.0 | 1.0 | 630 | 93 |\n",
      "|   0.007   | 1.0 | 1.0 | 630 | 93 |\n",
      "|   0.008   | 1.0 | 1.0 | 630 | 93 |\n",
      "|   0.009   | 1.0 | 1.0 | 630 | 93 |\n",
      "+-----------+-----+-----+-----+----+\n",
      "[1001 rows x 5 columns]\n",
      "Note: Only the head of the SFrame is printed.\n",
      "You can use print_rows(num_rows=m, num_columns=n) to print more rows and columns.}\n"
     ]
    }
   ],
   "source": [
    "print(evaluate_giraffe_selected)"
   ]
  },
  {
   "cell_type": "code",
   "execution_count": 27,
   "id": "5f62741b-686b-4440-8042-1d3b5ae471a9",
   "metadata": {},
   "outputs": [
    {
     "name": "stdout",
     "output_type": "stream",
     "text": [
      "{'accuracy': 0.975103734439834, 'auc': 0.9860556408943507, 'confusion_matrix': Columns:\n",
      "\ttarget_label\tint\n",
      "\tpredicted_label\tint\n",
      "\tcount\tint\n",
      "\n",
      "Rows: 4\n",
      "\n",
      "Data:\n",
      "+--------------+-----------------+-------+\n",
      "| target_label | predicted_label | count |\n",
      "+--------------+-----------------+-------+\n",
      "|      0       |        0        |   80  |\n",
      "|      1       |        1        |  625  |\n",
      "|      1       |        0        |   5   |\n",
      "|      0       |        1        |   13  |\n",
      "+--------------+-----------------+-------+\n",
      "[4 rows x 3 columns]\n",
      ", 'f1_score': 0.9858044164037855, 'log_loss': 0.08680353643340637, 'precision': 0.9796238244514106, 'recall': 0.9920634920634921, 'roc_curve': Columns:\n",
      "\tthreshold\tfloat\n",
      "\tfpr\tfloat\n",
      "\ttpr\tfloat\n",
      "\tp\tint\n",
      "\tn\tint\n",
      "\n",
      "Rows: 1001\n",
      "\n",
      "Data:\n",
      "+-----------+--------------------+--------------------+-----+----+\n",
      "| threshold |        fpr         |        tpr         |  p  | n  |\n",
      "+-----------+--------------------+--------------------+-----+----+\n",
      "|    0.0    |        1.0         |        1.0         | 630 | 93 |\n",
      "|   0.001   | 0.6559139784946236 |        1.0         | 630 | 93 |\n",
      "|   0.002   | 0.6451612903225806 |        1.0         | 630 | 93 |\n",
      "|   0.003   | 0.6021505376344086 |        1.0         | 630 | 93 |\n",
      "|   0.004   | 0.5698924731182796 |        1.0         | 630 | 93 |\n",
      "|   0.005   | 0.5483870967741935 |        1.0         | 630 | 93 |\n",
      "|   0.006   | 0.5483870967741935 |        1.0         | 630 | 93 |\n",
      "|   0.007   | 0.5376344086021505 | 0.9984126984126984 | 630 | 93 |\n",
      "|   0.008   | 0.5376344086021505 | 0.9984126984126984 | 630 | 93 |\n",
      "|   0.009   | 0.5268817204301075 | 0.9984126984126984 | 630 | 93 |\n",
      "+-----------+--------------------+--------------------+-----+----+\n",
      "[1001 rows x 5 columns]\n",
      "Note: Only the head of the SFrame is printed.\n",
      "You can use print_rows(num_rows=m, num_columns=n) to print more rows and columns.}\n"
     ]
    }
   ],
   "source": [
    "print(evaluate_giraffe_original)"
   ]
  },
  {
   "cell_type": "code",
   "execution_count": 30,
   "id": "0340b2fc-4aac-4365-9f3b-649b2587d534",
   "metadata": {},
   "outputs": [
    {
     "name": "stdout",
     "output_type": "stream",
     "text": [
      "{'name': 'Baby Trend Diaper Champ', 'review': \"I read a review below that can explain exactly what we experienced. We've had it for 16 months and it has worked wonderful for us. No smells, change it out once a week, easy to clean. Then a diaper snagged this foam material in the head part, so I pulled the rest of the foam out. Big mistake!!! Now it can no loner retain the stinkiness and we're looking for a replacement. Be careful of overloading and never take out that foam piece that is cushioned between pieces. I have figured out that it is key to keeping the stink out.\", 'rating': 4.0, 'sentiment': 1, 'word_count': {'key': 1.0, 'have': 1.0, 'pieces': 1.0, 'between': 1.0, 'cushioned': 1.0, 'piece': 1.0, 'take': 1.0, 'overloading': 1.0, 'be': 1.0, 'looking': 1.0, 're': 1.0, 'stinkiness': 1.0, 'retain': 1.0, 'now': 1.0, 'wonderful': 1.0, 'worked': 1.0, '16': 1.0, 'and': 3.0, 'months': 1.0, 've': 1.0, 'in': 1.0, 'us': 1.0, 'i': 3.0, 'experienced': 1.0, 'read': 1.0, 'easy': 1.0, 'for': 3.0, 'to': 2.0, 'has': 1.0, 'review': 1.0, 'keeping': 1.0, 'replacement': 1.0, 'out': 5.0, 'loner': 1.0, 'clean': 1.0, 'mistake': 1.0, 'big': 1.0, 'pulled': 1.0, 'it': 5.0, 'this': 1.0, 'is': 2.0, 'explain': 1.0, 'material': 1.0, 'exactly': 1.0, 'a': 4.0, 'we': 3.0, 'that': 4.0, 'had': 1.0, 'what': 1.0, 'part': 1.0, 'no': 2.0, 'smells': 1.0, 'can': 2.0, 'change': 1.0, 'figured': 1.0, 'week': 1.0, 'then': 1.0, 'snagged': 1.0, 'diaper': 1.0, 'careful': 1.0, 'the': 5.0, 'never': 1.0, 'foam': 3.0, 'head': 1.0, 'so': 1.0, 'below': 1.0, 'rest': 1.0, 'stink': 1.0, 'once': 1.0, 'of': 2.0}, 'awesome': 0.0, 'great': 0.0, 'fantastic': 0.0, 'amazing': 0.0, 'love': 0.0, 'horrible': 0, 'bad': 0, 'terrible': 0.0, 'awful': 0, 'wow': 0, 'hate': 0, 'predicted_sentiment_original': 0.9999999999895941, 'predicted_sentiment_selected': 0.7919288370624468}\n",
      "{'name': 'Baby Trend Diaper Champ', 'review': 'I LOVE LOVE LOVE this product! It is SO much easier to use than the Diaper Genie, (you need a PHD in poopy to figure out how to use the darn thing!) and it even takes the same bags as my kitchen trash can, shich is super convenient, and cost efficient as I can buy them in bulk.The only reason for not rating it a 5 star was that I did have one small problem with it. The foam gasket in the barrell which keeps the poopy smell inside the unit ripped somehow, and it got VERY stinky. HOWEVER, I contacted the manufacturer though their website, and received an email back the same day stating that this was unusual, and that replacement gaskets were on their way to me. They arrived inside of a week and after replacing, it works great again! (They even sent me extras should it happen again)I HIGHLY reccomend this diaper pail over ANY competitors, you will not be sorry!', 'rating': 4.0, 'sentiment': 1, 'word_count': {'sorry': 1.0, 'be': 1.0, 'will': 1.0, 'competitors': 1.0, 'reccomend': 1.0, 'should': 1.0, 'sent': 1.0, 'again': 2.0, 'great': 1.0, 'works': 1.0, 'over': 1.0, 'happen': 1.0, 'efficient': 1.0, 'however': 1.0, 'pail': 1.0, 'to': 4.0, 'phd': 1.0, 'super': 1.0, 'same': 2.0, 'bulk': 1.0, 'buy': 1.0, 'day': 1.0, 'trash': 1.0, 'is': 2.0, 'takes': 1.0, 'and': 6.0, 'darn': 1.0, 'received': 1.0, 'much': 1.0, 'only': 1.0, 'product': 1.0, 'for': 1.0, 'love': 3.0, 'use': 2.0, 'can': 2.0, 'so': 1.0, 'highly': 1.0, 'this': 3.0, 'it': 7.0, 'thing': 1.0, 'as': 2.0, 'bags': 1.0, 'diaper': 2.0, 'reason': 1.0, 'got': 1.0, 'foam': 1.0, 'any': 1.0, 'keeps': 1.0, 'stinky': 1.0, 'in': 3.0, 'i': 5.0, 'genie': 1.0, 'kitchen': 1.0, 'you': 2.0, 'need': 1.0, 'convenient': 1.0, 'with': 1.0, 'poopy': 2.0, 'replacing': 1.0, 'figure': 1.0, 'ripped': 1.0, 'very': 1.0, 'them': 1.0, 'out': 1.0, 'cost': 1.0, 'replacement': 1.0, 'gasket': 1.0, 'not': 2.0, 'my': 1.0, 'website': 1.0, 'me': 2.0, '5': 1.0, 'easier': 1.0, 'star': 1.0, 'back': 1.0, 'was': 2.0, 'that': 3.0, 'did': 1.0, 'how': 1.0, 'barrell': 1.0, 'shich': 1.0, 'have': 1.0, 'a': 3.0, 'small': 1.0, 'even': 2.0, 'contacted': 1.0, 'stating': 1.0, 'rating': 1.0, 'one': 1.0, 'which': 1.0, 'extras': 1.0, 'manufacturer': 1.0, 'smell': 1.0, 'an': 1.0, 'inside': 2.0, 'somehow': 1.0, 'unusual': 1.0, 'problem': 1.0, 'though': 1.0, 'their': 2.0, 'unit': 1.0, 'email': 1.0, 'gaskets': 1.0, 'were': 1.0, 'on': 1.0, 'than': 1.0, 'way': 1.0, 'they': 2.0, 'arrived': 1.0, 'the': 10.0, 'of': 1.0, 'week': 1.0, 'after': 1.0}, 'awesome': 0.0, 'great': 1.0, 'fantastic': 0.0, 'amazing': 0.0, 'love': 3.0, 'horrible': 0, 'bad': 0, 'terrible': 0.0, 'awful': 0, 'wow': 0, 'hate': 0, 'predicted_sentiment_original': 0.9999819570853404, 'predicted_sentiment_selected': 0.9981253623335121}\n"
     ]
    }
   ],
   "source": [
    "diaper_champ_reviews = products[products['name']== 'Baby Trend Diaper Champ']\n",
    "diaper_champ_reviews = diaper_champ_reviews.sort('predicted_sentiment_original', ascending=False)\n",
    "print(diaper_champ_reviews[0])\n",
    "diaper_champ_reviews = diaper_champ_reviews.sort('predicted_sentiment_selected', ascending=False)\n",
    "print(diaper_champ_reviews[0])"
   ]
  }
 ],
 "metadata": {
  "kernelspec": {
   "display_name": "Python 3 (ipykernel)",
   "language": "python",
   "name": "python3"
  },
  "language_info": {
   "codemirror_mode": {
    "name": "ipython",
    "version": 3
   },
   "file_extension": ".py",
   "mimetype": "text/x-python",
   "name": "python",
   "nbconvert_exporter": "python",
   "pygments_lexer": "ipython3",
   "version": "3.8.18"
  }
 },
 "nbformat": 4,
 "nbformat_minor": 5
}
