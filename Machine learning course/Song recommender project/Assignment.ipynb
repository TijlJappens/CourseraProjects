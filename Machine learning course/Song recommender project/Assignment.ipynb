{
 "cells": [
  {
   "cell_type": "code",
   "execution_count": 11,
   "id": "383f1ee2-4405-4158-8872-25f7ba205eb2",
   "metadata": {},
   "outputs": [],
   "source": [
    "import turicreate\n",
    "song_data = turicreate.SFrame('song_data.sframe/')"
   ]
  },
  {
   "cell_type": "code",
   "execution_count": 12,
   "id": "0f9b9560-ee52-4559-88b7-978645917870",
   "metadata": {},
   "outputs": [],
   "source": [
    "kanye_data = song_data[song_data['artist'] == 'Kanye West']\n",
    "foo_data = song_data[song_data['artist'] == 'Foo Fighters']\n",
    "taylor_data = song_data[song_data['artist'] == 'Taylor Swift']\n",
    "LG_data = song_data[song_data['artist'] == 'Lady GaGa']"
   ]
  },
  {
   "cell_type": "code",
   "execution_count": 13,
   "id": "2d06215a-c779-4659-86f1-1a28bdd8bb57",
   "metadata": {},
   "outputs": [
    {
     "name": "stdout",
     "output_type": "stream",
     "text": [
      "Unique Kanye West listeners:  2522\n",
      "Unique Foo Fighters listeners:  2055\n",
      "Unique Taylor Swift listeners:  3246\n",
      "Unique Lady GaGa listeners:  2928\n"
     ]
    }
   ],
   "source": [
    "print('Unique Kanye West listeners: ', len(kanye_data['user_id'].unique()))\n",
    "print('Unique Foo Fighters listeners: ', len(foo_data['user_id'].unique()))\n",
    "print('Unique Taylor Swift listeners: ', len(taylor_data['user_id'].unique()))\n",
    "print('Unique Lady GaGa listeners: ', len(LG_data['user_id'].unique()))"
   ]
  },
  {
   "cell_type": "code",
   "execution_count": 14,
   "id": "6ced8e94-6532-4650-bc37-4b8995960582",
   "metadata": {},
   "outputs": [],
   "source": [
    "total_count = song_data.groupby(key_column_names='artist', operations={'total_count': turicreate.aggregate.SUM('listen_count')})"
   ]
  },
  {
   "cell_type": "code",
   "execution_count": 19,
   "id": "c7e11371-f917-486a-9283-869c2aeed41e",
   "metadata": {},
   "outputs": [
    {
     "name": "stdout",
     "output_type": "stream",
     "text": [
      "Total Kanye West listeners:  9992\n",
      "Total Foo Fighters listeners:  9504\n",
      "Total Taylor Swift listeners:  19376\n",
      "Total Lady GaGa listeners:  12224\n"
     ]
    }
   ],
   "source": [
    "print('Total Kanye West listeners: ', total_count[total_count['artist']=='Kanye West']['total_count'][0])\n",
    "print('Total Foo Fighters listeners: ', total_count[total_count['artist']=='Foo Fighters']['total_count'][0])\n",
    "print('Total Taylor Swift listeners: ', total_count[total_count['artist']=='Taylor Swift']['total_count'][0])\n",
    "print('Total Lady GaGa listeners: ', total_count[total_count['artist']=='Lady GaGa']['total_count'][0])"
   ]
  },
  {
   "cell_type": "code",
   "execution_count": 15,
   "id": "05ec082a-2578-47e6-ac83-1dbc3a53f325",
   "metadata": {},
   "outputs": [
    {
     "name": "stdout",
     "output_type": "stream",
     "text": [
      "\n",
      "{'artist': 'Kings Of Leon', 'total_count': 43218}\n",
      "{'artist': 'William Tabbert', 'total_count': 14}\n"
     ]
    }
   ],
   "source": [
    "print()\n",
    "print(total_count.sort('total_count',ascending=False)[0])\n",
    "print(total_count.sort('total_count',ascending=False)[-1])"
   ]
  },
  {
   "cell_type": "code",
   "execution_count": null,
   "id": "8260b0c3-33a7-4e1b-959b-575462945a59",
   "metadata": {},
   "outputs": [],
   "source": []
  }
 ],
 "metadata": {
  "kernelspec": {
   "display_name": "Python 3 (ipykernel)",
   "language": "python",
   "name": "python3"
  },
  "language_info": {
   "codemirror_mode": {
    "name": "ipython",
    "version": 3
   },
   "file_extension": ".py",
   "mimetype": "text/x-python",
   "name": "python",
   "nbconvert_exporter": "python",
   "pygments_lexer": "ipython3",
   "version": "3.8.18"
  }
 },
 "nbformat": 4,
 "nbformat_minor": 5
}
