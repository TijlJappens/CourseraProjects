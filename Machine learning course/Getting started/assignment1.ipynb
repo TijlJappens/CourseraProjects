{
 "cells": [
  {
   "cell_type": "code",
   "execution_count": 3,
   "id": "fb3af37f-321c-4d26-8eed-7c9392995171",
   "metadata": {},
   "outputs": [],
   "source": [
    "import turicreate\n",
    "sf = turicreate.SFrame('people_wiki.sframe')"
   ]
  },
  {
   "cell_type": "code",
   "execution_count": 13,
   "id": "77afccf8-2c7b-45c0-ae49-473d93d6b3d8",
   "metadata": {},
   "outputs": [
    {
     "data": {
      "text/plain": [
       "59071"
      ]
     },
     "execution_count": 13,
     "metadata": {},
     "output_type": "execute_result"
    }
   ],
   "source": [
    "sf.num_rows()"
   ]
  },
  {
   "cell_type": "code",
   "execution_count": 23,
   "id": "a76eadab-f721-47db-9ef2-b1546c4500d4",
   "metadata": {},
   "outputs": [
    {
     "name": "stdout",
     "output_type": "stream",
     "text": [
      "2\n"
     ]
    }
   ],
   "source": [
    "i=0\n",
    "for n in sf['name']:\n",
    "    if n == \"Harpdog Brown\":\n",
    "        print(i)\n",
    "    i=i+1"
   ]
  },
  {
   "cell_type": "code",
   "execution_count": 22,
   "id": "ac3ba077-2b99-409e-99d8-273f3d7fd1cf",
   "metadata": {},
   "outputs": [
    {
     "data": {
      "text/plain": [
       "{'URI': '<http://dbpedia.org/resource/Harpdog_Brown>',\n",
       " 'name': 'Harpdog Brown',\n",
       " 'text': 'harpdog brown is a singer and harmonica player who has been active in canadas blues scene since 1982 hailing from vancouver he crossed tens of thousands of miles playing club dates and festivals in canada the northwestern united states and germanyover the years he has issued seven cds in 1995 his home is where the harp is won the muddy award for the best nw blues release from the cascade blues association in portland oregon as well that year it was nominated for a canadian juno for the best bluesgospel recording teamed up with graham guest on piano his cd naturally was voted 1 canadian blues album of 2010 by the blind lemon surveybrown tours extensively with his guitarist j arthur edmonds performing their electric mid1950s chicago blues either as a duo or with the full band while he is home he juggles a few combos working many venues big and small he also leads the harpdog brown band which is a gutsy traditional chicago blues band in 2014 they released what it is comprising mainly original songs and a few classic covers influential blues promoter and broadcaster holger petersen called what it is browns best albumhe was just awarded the maple blues award in toronto for best harmonica player in canada 2014 and was honored with a life time membership to the hamilton blues society'}"
      ]
     },
     "execution_count": 22,
     "metadata": {},
     "output_type": "execute_result"
    }
   ],
   "source": [
    "sf[2]"
   ]
  },
  {
   "cell_type": "code",
   "execution_count": 26,
   "id": "4211e5e6-4b0e-4b7f-94f0-a3d878e3d98b",
   "metadata": {},
   "outputs": [],
   "source": [
    "sf=sf.sort('text')"
   ]
  },
  {
   "cell_type": "code",
   "execution_count": 27,
   "id": "13e5f6d1-c39c-46c1-bde5-56226df4f11c",
   "metadata": {},
   "outputs": [
    {
     "data": {
      "text/plain": [
       "{'URI': '<http://dbpedia.org/resource/108_(artist)>',\n",
       " 'name': '108 (artist)',\n",
       " 'text': '108 born 1978 is an italian artist in the field of street art and contemporary art from alessandria108 has moved from working in traditional graffiti art to painting large and mysterious figures that invade public spaces he was the first writer to use numbers instead of letters for his name he started to work when he was a child on the streets of alessandria and used different nameshis work has appeared on the streets of milan paris london berlin and new york city his first works known by people are enigmatic bloblike yellow shapes it is his firm intention to make visual chaos his new works are labyrinths dead trees non figurative 3d objects and installations but especially black and gloomy shapes becoming one of the biggest and influential artists in graffiti abstractism in the last years he took part in a lot of international exhibitions nusign 24 in paris urban edge show in milano segundo and tercer asalto in zaragoza and in 2007 he was invited to join the project called walls inside the biennale di venezia with jr and daim during march 2008 he was invited to join nomadaz a show curated by pablo aravena in los angeles with eltono dem microbo and other artists to represent europe in the usa 108s doomy black abstractions are engaging and challenging in equal measure whether it be within the confines of a small room in the abandoned monastery where the large triangular constructions are most effective and have the effect of warping and playing with the rooms dimensions as the viewer attempts to back away and comprehend the pieces or as a surreal floating void on a wall beside a busy road'}"
      ]
     },
     "execution_count": 27,
     "metadata": {},
     "output_type": "execute_result"
    }
   ],
   "source": [
    "sf[0]"
   ]
  }
 ],
 "metadata": {
  "kernelspec": {
   "display_name": "Python 3 (ipykernel)",
   "language": "python",
   "name": "python3"
  },
  "language_info": {
   "codemirror_mode": {
    "name": "ipython",
    "version": 3
   },
   "file_extension": ".py",
   "mimetype": "text/x-python",
   "name": "python",
   "nbconvert_exporter": "python",
   "pygments_lexer": "ipython3",
   "version": "3.8.18"
  }
 },
 "nbformat": 4,
 "nbformat_minor": 5
}
